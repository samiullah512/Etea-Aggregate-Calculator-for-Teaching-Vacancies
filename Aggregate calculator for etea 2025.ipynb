{
 "cells": [
  {
   "cell_type": "code",
   "execution_count": 2,
   "metadata": {},
   "outputs": [
    {
     "name": "stdout",
     "output_type": "stream",
     "text": [
      "\n",
      "The aggregate percentage is: 53.67%\n"
     ]
    }
   ],
   "source": [
    "import numpy as np\n",
    "\n",
    "# Function to calculate weighted marks\n",
    "def calculate_weighted_marks(marks, weight, total_marks):\n",
    "    return (marks * weight) / total_marks if total_marks != 0 else 0\n",
    "\n",
    "# Function to get user inputs and calculate aggregate\n",
    "def aggregate_calculator():\n",
    "    # Getting user inputs\n",
    "    ssc_marks = float(input(\"Enter SSC marks: \"))\n",
    "    ssc_total = float(input(\"Enter total SSC marks: \"))\n",
    "    hssc_marks = float(input(\"Enter HSSC marks: \"))\n",
    "    hssc_total = float(input(\"Enter total HSSC marks: \"))\n",
    "    \n",
    "    ba_bsc_marks = input(\"Enter BA/BSc marks (leave blank if not applicable): \")\n",
    "    ba_bsc_total = input(\"Enter total BA/BSc marks (leave blank if not applicable): \")\n",
    "    bs_marks = input(\"Enter BS marks (leave blank if not applicable): \")\n",
    "    bs_total = input(\"Enter total BS marks (leave blank if not applicable): \")\n",
    "    ma_msc_marks = input(\"Enter MA/MSc marks (leave blank if not applicable): \")\n",
    "    ma_msc_total = input(\"Enter total MA/MSc marks (leave blank if not applicable): \")\n",
    "    ade_bed_marks = input(\"Enter ADE/BEd marks (leave blank if not applicable): \")\n",
    "    ade_bed_total = input(\"Enter total ADE/BEd marks (leave blank if not applicable): \")\n",
    "    med_marks = input(\"Enter MEd marks (leave blank if not applicable): \")\n",
    "    med_total = input(\"Enter total MEd marks (leave blank if not applicable): \")\n",
    "    mphil_marks = input(\"Enter MPhil marks (leave blank if not applicable): \")\n",
    "    mphil_total = input(\"Enter total MPhil marks (leave blank if not applicable): \")\n",
    "    phd_marks = input(\"Enter PhD marks (leave blank if not applicable): \")\n",
    "    phd_total = input(\"Enter total PhD marks (leave blank if not applicable): \")\n",
    "\n",
    "    # Calculate weighted marks\n",
    "    ssc_weighted = calculate_weighted_marks(ssc_marks, 15, ssc_total)\n",
    "    hssc_weighted = calculate_weighted_marks(hssc_marks, 20, hssc_total)\n",
    "    ba_bsc_weighted = calculate_weighted_marks(float(ba_bsc_marks), 20, float(ba_bsc_total)) if ba_bsc_marks and ba_bsc_total else 0\n",
    "    bs_weighted = calculate_weighted_marks(float(bs_marks), 35, float(bs_total)) if bs_marks and bs_total else 0\n",
    "    ma_msc_weighted = calculate_weighted_marks(float(ma_msc_marks), 15, float(ma_msc_total)) if ma_msc_marks and ma_msc_total else 0\n",
    "    ade_bed_weighted = calculate_weighted_marks(float(ade_bed_marks), 15, float(ade_bed_total)) if ade_bed_marks and ade_bed_total else 0\n",
    "    med_weighted = calculate_weighted_marks(float(med_marks), 5, float(med_total)) if med_marks and med_total else 0\n",
    "    mphil_weighted = calculate_weighted_marks(float(mphil_marks), 5, float(mphil_total)) if mphil_marks and mphil_total else 0\n",
    "    phd_weighted = calculate_weighted_marks(float(phd_marks), 5, float(phd_total)) if phd_marks and phd_total else 0\n",
    "\n",
    "    # Calculate aggregate\n",
    "    aggregate = (\n",
    "        ssc_weighted +\n",
    "        hssc_weighted +\n",
    "        ba_bsc_weighted +\n",
    "        bs_weighted +\n",
    "        ma_msc_weighted +\n",
    "        ade_bed_weighted +\n",
    "        med_weighted +\n",
    "        mphil_weighted +\n",
    "        phd_weighted\n",
    "    )\n",
    "\n",
    "    print(f\"\\nThe aggregate percentage is: {aggregate:.2f}%\")\n",
    "\n",
    "# Run the calculator\n",
    "aggregate_calculator()\n"
   ]
  }
 ],
 "metadata": {
  "kernelspec": {
   "display_name": "deep_learning",
   "language": "python",
   "name": "python3"
  },
  "language_info": {
   "codemirror_mode": {
    "name": "ipython",
    "version": 3
   },
   "file_extension": ".py",
   "mimetype": "text/x-python",
   "name": "python",
   "nbconvert_exporter": "python",
   "pygments_lexer": "ipython3",
   "version": "3.8.20"
  }
 },
 "nbformat": 4,
 "nbformat_minor": 2
}
